{
 "cells": [
  {
   "attachments": {},
   "cell_type": "markdown",
   "metadata": {},
   "source": [
    "# Problems"
   ]
  },
  {
   "attachments": {},
   "cell_type": "markdown",
   "metadata": {},
   "source": [
    "## Arrays & Hashing"
   ]
  },
  {
   "attachments": {},
   "cell_type": "markdown",
   "metadata": {},
   "source": [
    "### [Easy - Two sum](https://leetcode.com/problems/two-sum/)\n",
    "Given an array of integers nums and an integer target, return indices of the two numbers such that they add up to target."
   ]
  },
  {
   "cell_type": "code",
   "execution_count": 4,
   "metadata": {},
   "outputs": [
    {
     "name": "stdout",
     "output_type": "stream",
     "text": [
      "O(n)\n",
      "[1, 0]\n"
     ]
    }
   ],
   "source": [
    "def two_sum(nums, target):\n",
    "    memo = {}\n",
    "    for i in range(len(nums)):\n",
    "        diff = target - nums[i]\n",
    "        if diff in memo:\n",
    "            return [i, memo[diff]]\n",
    "        memo[nums[i]] = i\n",
    "print('O(n)')\n",
    "print(two_sum([2,7,11,15], 9))"
   ]
  },
  {
   "attachments": {},
   "cell_type": "markdown",
   "metadata": {},
   "source": [
    "## Sliding window"
   ]
  },
  {
   "attachments": {},
   "cell_type": "markdown",
   "metadata": {},
   "source": [
    "### [Easy - Valid Palindrome](https://leetcode.com/problems/valid-palindrome/)\n",
    "Given a string s, return true if it is a palindrome, or false otherwise."
   ]
  },
  {
   "cell_type": "code",
   "execution_count": 15,
   "metadata": {},
   "outputs": [
    {
     "name": "stdout",
     "output_type": "stream",
     "text": [
      "O(n)\n",
      "True\n"
     ]
    }
   ],
   "source": [
    "def is_palindrome(s):\n",
    "    i, j = 0, len(s) - 1\n",
    "    while i < j:\n",
    "        while i < j and not s[i].isalnum():\n",
    "            i += 1\n",
    "        while i < j and not s[j].isalnum():\n",
    "            j -= 1\n",
    "        if s[i].lower() != s[j].lower():\n",
    "            return False\n",
    "        i += 1; j -= 1\n",
    "    return True\n",
    "\n",
    "s = \"A man, a plan, a canal: Panama\"\n",
    "print('O(n)')\n",
    "print(is_palindrome(s))"
   ]
  },
  {
   "attachments": {},
   "cell_type": "markdown",
   "metadata": {},
   "source": [
    "### [Medium - 3Sum](https://leetcode.com/problems/3sum/)\n",
    "Given an integer array nums, return all the triplets [nums[i], nums[j], nums[k]] such that i != j, i != k, and j != k, and nums[i] + nums[j] + nums[k] == 0.\n",
    "\n",
    "Notice that the solution set must not contain duplicate triplets.\n",
    "\n",
    "Hints:\n",
    "- double loop\n",
    "  - loop thru n, then\n",
    "  - loop tru [sorted two sum with two pointers](https://leetcode.com/problems/two-sum-ii-input-array-is-sorted/) (sorted two sum)\n",
    "- remember to skip duplicates in both loops\n"
   ]
  },
  {
   "cell_type": "code",
   "execution_count": 24,
   "metadata": {},
   "outputs": [
    {
     "name": "stdout",
     "output_type": "stream",
     "text": [
      "O(nlogn) + O(n2) = O(n2)\n",
      "[[-1, -1, 2], [-1, 0, 1]]\n"
     ]
    }
   ],
   "source": [
    "def three_sum(nums):\n",
    "    results = []\n",
    "    nums.sort()\n",
    "    for i, val in enumerate(nums):\n",
    "        if i > 0 and val == nums[i - 1]:\n",
    "            continue  # skip duplicates\n",
    "        l, r = i + 1, len(nums) - 1\n",
    "        while l < r:  # two sum ii\n",
    "            result = [val, nums[l], nums[r]]\n",
    "            three_sum = sum(result)\n",
    "            if three_sum > 0: r -= 1\n",
    "            elif three_sum < 0: l += 1\n",
    "            else:\n",
    "                results.append(result)\n",
    "                l += 1\n",
    "                while nums[l] == nums[l - 1] and l < r:\n",
    "                    l += 1  # skip duplicates\n",
    "    return results\n",
    "\n",
    "nums = [-1,0,1,2,-1,-4]\n",
    "print('O(nlogn) + O(n2) = O(n2)')\n",
    "print(three_sum(nums))"
   ]
  }
 ],
 "metadata": {
  "kernelspec": {
   "display_name": "venv",
   "language": "python",
   "name": "python3"
  },
  "language_info": {
   "codemirror_mode": {
    "name": "ipython",
    "version": 3
   },
   "file_extension": ".py",
   "mimetype": "text/x-python",
   "name": "python",
   "nbconvert_exporter": "python",
   "pygments_lexer": "ipython3",
   "version": "3.8.10"
  },
  "orig_nbformat": 4
 },
 "nbformat": 4,
 "nbformat_minor": 2
}
