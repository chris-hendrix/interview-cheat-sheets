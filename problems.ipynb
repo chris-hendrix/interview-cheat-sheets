{
 "cells": [
  {
   "attachments": {},
   "cell_type": "markdown",
   "metadata": {},
   "source": [
    "# Problems"
   ]
  },
  {
   "cell_type": "code",
   "execution_count": 3,
   "metadata": {},
   "outputs": [],
   "source": [
    "%load_ext autoreload\n",
    "%autoreload 2"
   ]
  },
  {
   "attachments": {},
   "cell_type": "markdown",
   "metadata": {},
   "source": [
    "## Arrays & Hashing"
   ]
  },
  {
   "attachments": {},
   "cell_type": "markdown",
   "metadata": {},
   "source": [
    "### [[Easy] Two sum (unsorted)](https://leetcode.com/problems/two-sum/)\n",
    "Given an array of integers nums and an integer target, return indices of the two numbers such that they add up to target.\n",
    "**Notes**:\n",
    "- use `memo[val] = i` "
   ]
  },
  {
   "cell_type": "code",
   "execution_count": 4,
   "metadata": {},
   "outputs": [
    {
     "name": "stdout",
     "output_type": "stream",
     "text": [
      "O(n)\n",
      "[1, 0]\n"
     ]
    }
   ],
   "source": [
    "def two_sum(nums, target):\n",
    "    memo = {}\n",
    "    for i in range(len(nums)):\n",
    "        diff = target - nums[i]\n",
    "        if diff in memo:\n",
    "            return [i, memo[diff]]\n",
    "        memo[nums[i]] = i\n",
    "print('O(n)')\n",
    "print(two_sum([2,7,11,15], 9))"
   ]
  },
  {
   "attachments": {},
   "cell_type": "markdown",
   "metadata": {},
   "source": [
    "## Two pointers"
   ]
  },
  {
   "attachments": {},
   "cell_type": "markdown",
   "metadata": {},
   "source": [
    "### [[Easy] Valid Palindrome](https://leetcode.com/problems/valid-palindrome/)\n",
    "Given a string s, return true if it is a palindrome, or false otherwise.\n",
    "\n",
    "**Notes**:\n",
    "- skip over `not s[i].isalnum()` on both sides"
   ]
  },
  {
   "cell_type": "code",
   "execution_count": 15,
   "metadata": {},
   "outputs": [
    {
     "name": "stdout",
     "output_type": "stream",
     "text": [
      "O(n)\n",
      "True\n"
     ]
    }
   ],
   "source": [
    "def is_palindrome(s):\n",
    "    i, j = 0, len(s) - 1\n",
    "    while i < j:\n",
    "        while i < j and not s[i].isalnum():\n",
    "            i += 1\n",
    "        while i < j and not s[j].isalnum():\n",
    "            j -= 1\n",
    "        if s[i].lower() != s[j].lower():\n",
    "            return False\n",
    "        i += 1; j -= 1\n",
    "    return True\n",
    "\n",
    "s = \"A man, a plan, a canal: Panama\"\n",
    "print('O(n)')\n",
    "print(is_palindrome(s))"
   ]
  },
  {
   "attachments": {},
   "cell_type": "markdown",
   "metadata": {},
   "source": [
    "### [[Medium] 3Sum](https://leetcode.com/problems/3sum/)\n",
    "Given an integer array nums, return all the triplets [nums[i], nums[j], nums[k]] such that i != j, i != k, and j != k, and nums[i] + nums[j] + nums[k] == 0.\n",
    "\n",
    "**Notes**:\n",
    "- double loop\n",
    "  - loop thru n, then\n",
    "  - loop tru [sorted two sum with two pointers](https://leetcode.com/problems/two-sum-ii-input-array-is-sorted/) (sorted two sum)\n",
    "- remember to skip duplicates in both loops\n"
   ]
  },
  {
   "cell_type": "code",
   "execution_count": 24,
   "metadata": {},
   "outputs": [
    {
     "name": "stdout",
     "output_type": "stream",
     "text": [
      "O(nlogn) + O(n2) = O(n2)\n",
      "[[-1, -1, 2], [-1, 0, 1]]\n"
     ]
    }
   ],
   "source": [
    "def three_sum(nums):\n",
    "    results = []\n",
    "    nums.sort()\n",
    "    for i, val in enumerate(nums):\n",
    "        if i > 0 and val == nums[i - 1]:\n",
    "            continue  # skip duplicates\n",
    "        l, r = i + 1, len(nums) - 1\n",
    "        while l < r:  # two sum ii\n",
    "            result = [val, nums[l], nums[r]]\n",
    "            three_sum = sum(result)\n",
    "            if three_sum > 0: r -= 1\n",
    "            elif three_sum < 0: l += 1\n",
    "            else:\n",
    "                results.append(result)\n",
    "                l += 1\n",
    "                while nums[l] == nums[l - 1] and l < r:\n",
    "                    l += 1  # skip duplicates\n",
    "    return results\n",
    "\n",
    "nums = [-1,0,1,2,-1,-4]\n",
    "print('O(nlogn) + O(n2) = O(n2)')\n",
    "print(three_sum(nums))"
   ]
  },
  {
   "attachments": {},
   "cell_type": "markdown",
   "metadata": {},
   "source": [
    "## Sliding Window"
   ]
  },
  {
   "attachments": {},
   "cell_type": "markdown",
   "metadata": {},
   "source": [
    "### [[Medium] Longest Substring without Repeats](https://leetcode.com/problems/longest-substring-without-repeating-characters/)\n",
    "Given a string s, find the length of the longest substring without repeating characters.\n",
    "\n",
    "**Notes**: store counts in map, `O(2n) = O(n)`"
   ]
  },
  {
   "cell_type": "code",
   "execution_count": 3,
   "metadata": {},
   "outputs": [
    {
     "name": "stdout",
     "output_type": "stream",
     "text": [
      "O(2n) = O(n)\n",
      "3\n"
     ]
    }
   ],
   "source": [
    "def longest_substring_without_repeats(s):\n",
    "    cmap = {c: 0 for c in s}\n",
    "    longest = 0\n",
    "    i = j = 0\n",
    "    while j < len(s):\n",
    "        cmap[s[j]] += 1\n",
    "        while cmap[s[j]] > 1:\n",
    "            cmap[s[i]] -= 1\n",
    "            i += 1\n",
    "        longest = max(longest, j - i + 1)\n",
    "        j += 1\n",
    "    return longest\n",
    "\n",
    "s = \"abcabcbb\"\n",
    "print(longest_substring_without_repeats(s))\n"
   ]
  },
  {
   "attachments": {},
   "cell_type": "markdown",
   "metadata": {},
   "source": [
    "## Stacks and Queues"
   ]
  },
  {
   "attachments": {},
   "cell_type": "markdown",
   "metadata": {},
   "source": [
    "### [[Easy] Valid Parentheses](https://leetcode.com/problems/valid-parentheses)\n",
    "Given a string s containing just the characters '(', ')', '{', '}', '[' and ']', determine if the input string is valid.\n",
    "\n",
    "**Notes**: use queue, edge case: handle closed bracket first, `O(n)`"
   ]
  },
  {
   "cell_type": "code",
   "execution_count": 1,
   "metadata": {},
   "outputs": [
    {
     "name": "stdout",
     "output_type": "stream",
     "text": [
      "O(n)\n",
      "True\n"
     ]
    }
   ],
   "source": [
    "import collections\n",
    "def is_valid_parentheses(s):\n",
    "    pmap = {'(': ')', '{': '}', '[': ']'}\n",
    "    opened = collections.deque([])\n",
    "    for c in s:\n",
    "        if c in pmap: opened.appendleft(c)  # hit opened\n",
    "        if c in pmap.values():  # hit closed\n",
    "            if len(opened) == 0 or pmap[opened[0]] != c:\n",
    "                return False\n",
    "            opened.popleft()\n",
    "    return len(opened) == 0\n",
    "\n",
    "s = '()[]'\n",
    "print(is_valid_parentheses(s))"
   ]
  },
  {
   "attachments": {},
   "cell_type": "markdown",
   "metadata": {},
   "source": [
    "## Trees"
   ]
  },
  {
   "attachments": {},
   "cell_type": "markdown",
   "metadata": {},
   "source": [
    "### [[Easy] Invert Binary Tree](https://leetcode.com/problems/invert-binary-tree)\n",
    "Given the root of a binary tree, invert the tree, and return its root.\n",
    "\n",
    "**Notes**: return the root, set left and right to the recursive invert, `O(n)`"
   ]
  },
  {
   "cell_type": "code",
   "execution_count": 1,
   "metadata": {},
   "outputs": [
    {
     "name": "stdout",
     "output_type": "stream",
     "text": [
      "O(n)\n",
      "  _4_  \n",
      " /   \\ \n",
      " 7   2 \n",
      "/ \\ / \\\n",
      "9 6 3 1\n",
      "  _4_  \n",
      " /   \\ \n",
      " 7   2 \n",
      "/ \\ / \\\n",
      "9 6 3 1\n"
     ]
    }
   ],
   "source": [
    "from lib.tree import Tree\n",
    "def invert_tree(root):\n",
    "    if not root: return\n",
    "    left = invert_tree(root.left)\n",
    "    right = invert_tree(root.right)\n",
    "    root.left = right\n",
    "    root.right = left\n",
    "    return root\n",
    "\n",
    "root = Tree.bst_from_list([4,2,7,1,3,6,9])\n",
    "inverse = invert_tree(root)\n",
    "root.display()\n",
    "inverse.display()"
   ]
  },
  {
   "attachments": {},
   "cell_type": "markdown",
   "metadata": {},
   "source": [
    "## Linked Lists"
   ]
  },
  {
   "attachments": {},
   "cell_type": "markdown",
   "metadata": {},
   "source": [
    "### [[Easy] Reverse Linked List](https://leetcode.com/problems/reverse-linked-list)\n",
    "\n",
    "Given the head of a singly linked list, reverse the list, and return the reversed list.\n",
    "\n",
    "**Notes**: one loop, do in O(1) space with temp pointer, `O(n)`"
   ]
  },
  {
   "cell_type": "code",
   "execution_count": 11,
   "metadata": {},
   "outputs": [
    {
     "name": "stdout",
     "output_type": "stream",
     "text": [
      "O(n)\n",
      "(5->4->3->2->1)\n"
     ]
    }
   ],
   "source": [
    "from lib.linked_list import LinkedList\n",
    "def reverse_linked_list(head):\n",
    "    prev = None\n",
    "    curr = head\n",
    "    while curr:\n",
    "        loop_next = curr.next\n",
    "        curr.next = prev\n",
    "        prev = curr\n",
    "        curr = loop_next\n",
    "    return prev\n",
    "\n",
    "arr = [1, 2, 3, 4, 5]\n",
    "head = LinkedList.create_from_arr(arr)\n",
    "print(reverse_linked_list(head))"
   ]
  },
  {
   "attachments": {},
   "cell_type": "markdown",
   "metadata": {},
   "source": [
    "## Graphs"
   ]
  },
  {
   "attachments": {},
   "cell_type": "markdown",
   "metadata": {},
   "source": [
    "## [[Medium] Number of Islands](https://leetcode.com/problems/number-of-islands/)\n",
    "Given an m x n 2D binary grid grid which represents a map of '1's (land) and '0's (water), return the number of islands.\n",
    "\n",
    "**Notes**: BFS and switch each visited node to '0', `O(n+m)`"
   ]
  },
  {
   "cell_type": "code",
   "execution_count": 1,
   "metadata": {},
   "outputs": [
    {
     "name": "stdout",
     "output_type": "stream",
     "text": [
      "1\n"
     ]
    }
   ],
   "source": [
    "def num_islands(grid):\n",
    "    def visit(grid, i, j):\n",
    "        if not 0 <= i < len(grid): return\n",
    "        if not 0 <= j < len(grid[0]): return\n",
    "        if grid[i][j] == '0': return\n",
    "\n",
    "        grid[i][j] = '0'\n",
    "        visit(grid, i + 1, j)  # down\n",
    "        visit(grid, i, j + 1)  # right\n",
    "        visit(grid, i - 1, j)  # up\n",
    "        visit(grid, i, j - 1)  # left\n",
    "\n",
    "    count = 0\n",
    "    for i in range(len(grid)):\n",
    "        for j in range(len(grid[0])):\n",
    "            if grid[i][j] == '1':\n",
    "                visit(grid, i, j)\n",
    "                count += 1\n",
    "    return count\n",
    "\n",
    "grid = [\n",
    "  [\"1\",\"1\",\"1\",\"1\",\"0\"],\n",
    "  [\"1\",\"1\",\"0\",\"1\",\"0\"],\n",
    "  [\"1\",\"1\",\"0\",\"0\",\"0\"],\n",
    "  [\"0\",\"0\",\"0\",\"0\",\"0\"]\n",
    "]\n",
    "print(num_islands(grid))"
   ]
  }
 ],
 "metadata": {
  "kernelspec": {
   "display_name": "Python 3",
   "language": "python",
   "name": "python3"
  },
  "language_info": {
   "codemirror_mode": {
    "name": "ipython",
    "version": 3
   },
   "file_extension": ".py",
   "mimetype": "text/x-python",
   "name": "python",
   "nbconvert_exporter": "python",
   "pygments_lexer": "ipython3",
   "version": "3.8.10"
  },
  "orig_nbformat": 4,
  "vscode": {
   "interpreter": {
    "hash": "aee8b7b246df8f9039afb4144a1f6fd8d2ca17a180786b69acc140d282b71a49"
   }
  }
 },
 "nbformat": 4,
 "nbformat_minor": 2
}
