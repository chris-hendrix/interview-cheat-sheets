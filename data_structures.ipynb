{
 "cells": [
  {
   "attachments": {},
   "cell_type": "markdown",
   "metadata": {},
   "source": [
    "# Data structures\n",
    "---\n",
    "---"
   ]
  },
  {
   "attachments": {},
   "cell_type": "markdown",
   "metadata": {},
   "source": [
    "### Big O\n",
    "---\n",
    "| | index | search | opt search | insert| append | sort |\n",
    "| --- | --- | --- | --- | --- | --- | --- |\n",
    "| array | `O(1)` | `O(n)` | `O(logn)` | `n/a` | `n/a` | `O(n*logn)` |\n",
    "| dynamic array | `O(1)` | `O(n)` | `O(logn)` | `O(n)` | `O(1)` | `O(n*logn)` |\n",
    "| linked list | `O(n)` | `O(n)` | `O(n)` | `O(n)` | `O(1)` | `O(n*logn)` |\n",
    "| hash | `O(1)` | `O(1)` | `O(1)` | `O(1)` | `n/a` | `O(n*logn)` |\n",
    "| binary tree | `O(logn)` | `O(logn)` | `O(logn)` | `O(logn)` | `O(logn)` | `O(n)` |\n",
    "| min heap | `O(logn)` | `O(logn)` | `O(logn)` | `O(logn)` | `O(logn)` | `O(n*logn)` |"
   ]
  },
  {
   "attachments": {},
   "cell_type": "markdown",
   "metadata": {},
   "source": [
    "### Arrays\n",
    "___\n",
    "##### Overview\n",
    "- Optimal for indexing; bad at searching, inserting, and deleting (except at the end)\n",
    "- **Dynamic array**: doubles in size when max is met (copies n elements so `O(n)`)\n",
    "##### Time complexity\n",
    "- Indexing:         Linear array: `O(1)`   \n",
    "- Search:           Linear array: `O(n)` \n",
    "- Optimized Search: Linear array: `O(log n)`\n",
    "- Insertion:        Dynamic array: `O(n)`       "
   ]
  },
  {
   "attachments": {},
   "cell_type": "markdown",
   "metadata": {},
   "source": [
    "### Linked list, stack, queue\n",
    "---\n",
    "##### Overview\n",
    "- Optimal for insertion and deletion, slow at indexing and searching\n",
    "- **Stack**: LIFO, linked list that inserts at head, removes from head\n",
    "- **Queue**: FIFO, linked list that adds to tail, removes from head\n",
    "##### Complexity\n",
    "- Indexing:         Linked Lists: `O(n)`\n",
    "- Search:           Linked Lists: `O(n)`\n",
    "- Optimized Search: Linked Lists: `O(n)`\n",
    "- Append:           Linked Lists: `O(1)`\n",
    "- Prepend:          Linked Lists: `O(1)`\n",
    "- Insertion:        Linked Lists: `O(n)`"
   ]
  },
  {
   "cell_type": "code",
   "execution_count": 11,
   "metadata": {},
   "outputs": [
    {
     "name": "stdout",
     "output_type": "stream",
     "text": [
      "stack deque([1, 2, 3])\n",
      "queue deque([2, 3, 5])\n"
     ]
    }
   ],
   "source": [
    "from collections import deque\n",
    "stack = deque([1, 2, 3])\n",
    "stack.appendleft(5)  # adds at head\n",
    "stack.popleft()  # gets from head\n",
    "print('stack', stack)\n",
    "\n",
    "queue = deque([1, 2, 3])\n",
    "queue.append(5)  # adds to end\n",
    "queue.popleft()  # gets from head\n",
    "print('queue', queue)"
   ]
  },
  {
   "attachments": {},
   "cell_type": "markdown",
   "metadata": {},
   "source": [
    "### Hash table\n",
    "---\n",
    "##### Overview\n",
    "- Storage with key value pairs\n",
    "- Handle collisions in linked list\n",
    "##### Complexity\n",
    "- Indexing:         Hash Tables: `O(1)`\n",
    "- Search:           Hash Tables: `O(1)`\n",
    "- Insertion:        Hash Tables: `O(1)`"
   ]
  },
  {
   "attachments": {},
   "cell_type": "markdown",
   "metadata": {},
   "source": [
    "### Trees\n",
    "---\n",
    "##### Overview\n",
    "- Node with left and right node\n",
    "- Designed for searching and sorting\n",
    "- Types\n",
    "  - **Binary search tree**: `left <= parent < right`, no duplicate nodes\n",
    "  - **Balanced**: balanced enough for `O(logn)` traversal\n",
    "  - **Complete**: super balanced, `abs(nleft-nright) <= 1`\n",
    "  - **Full**: all nodes have 0 or 2 children\n",
    "  - **Perfect**: full and complete\n",
    "\n",
    "##### Traversal\n",
    "| | in-order | pre-order | post-order |\n",
    "|--- | --- | --- | --- |\n",
    "recursive order | `left-curr-right` | `curr-left-right` | `left-right-curr` |\n",
    "order | BST smallest to largest | root is always first | root is always last\n",
    "\n",
    "##### Complexity\n",
    "- Indexing:  Binary Search Tree: `O(log n)`\n",
    "- Search:    Binary Search Tree: `O(log n)`\n",
    "- Insertion: Binary Search Tree: `O(log n)`"
   ]
  },
  {
   "attachments": {},
   "cell_type": "markdown",
   "metadata": {},
   "source": [
    "## Heaps (trees)\n",
    "---\n",
    "##### Overview\n",
    "- Complete unordered tree with root is the minimum\n",
    "- Guarantees `O(logn)` search (BST does not)\n",
    "- Ordering takes \n",
    "- Represented by array\n",
    "  - current: `arr[i]`\n",
    "  - parent: `arr[(i-1)/2]`\n",
    "  - left: `arr[(2*i) + 1]`\n",
    "  - right: `arr[(2*i )+ 2]`\n",
    "\n",
    "##### Complexity\n",
    "- Indexing:   Min Heap: `O(log n)`\n",
    "- Search:     Min Heap: `O(log n)`\n",
    "- Insertion:  Min Heap: `O(log n)`\n",
    "- Heapify:    Min Heap: `O(n*logn)`\n",
    "- Sort:       Min Heap: `O(n*logn)`\n"
   ]
  }
 ],
 "metadata": {
  "kernelspec": {
   "display_name": "venv",
   "language": "python",
   "name": "python3"
  },
  "language_info": {
   "codemirror_mode": {
    "name": "ipython",
    "version": 3
   },
   "file_extension": ".py",
   "mimetype": "text/x-python",
   "name": "python",
   "nbconvert_exporter": "python",
   "pygments_lexer": "ipython3",
   "version": "3.8.10"
  },
  "orig_nbformat": 4,
  "vscode": {
   "interpreter": {
    "hash": "d904f6c1e2f91889e7de3bea8ae9618595ff49d624a8fb0a13167a7973e5cc85"
   }
  }
 },
 "nbformat": 4,
 "nbformat_minor": 2
}
