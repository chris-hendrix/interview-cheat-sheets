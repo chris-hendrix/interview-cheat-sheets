{
 "cells": [
  {
   "cell_type": "markdown",
   "metadata": {},
   "source": []
  },
  {
   "attachments": {},
   "cell_type": "markdown",
   "metadata": {},
   "source": [
    "# Arrays & hashing\n",
    "---"
   ]
  },
  {
   "attachments": {},
   "cell_type": "markdown",
   "metadata": {},
   "source": [
    "### Hash table\n",
    "**Runtime**: avg: O(1), worst: O(n)"
   ]
  },
  {
   "cell_type": "code",
   "execution_count": 14,
   "metadata": {},
   "outputs": [
    {
     "name": "stdout",
     "output_type": "stream",
     "text": [
      "The autoreload extension is already loaded. To reload it, use:\n",
      "  %reload_ext autoreload\n",
      "0 (40->40)\n",
      "1 (None)\n",
      "2 (2->82->42->42)\n",
      "3 (53->73->73)\n",
      "4 (84->84)\n",
      "5 (15->5->5->35->85->85)\n",
      "6 (6->16->16)\n",
      "7 (37->7->7)\n",
      "8 (18->58->58)\n",
      "9 (29->9->9)\n"
     ]
    },
    {
     "data": {
      "text/plain": [
       "[None, None, None, None, None, None, None, None, None, None]"
      ]
     },
     "execution_count": 14,
     "metadata": {},
     "output_type": "execute_result"
    }
   ],
   "source": [
    "%load_ext autoreload\n",
    "%autoreload 2\n",
    "from linked_list import Node\n",
    "from numpy import random\n",
    "\n",
    "length = 10\n",
    "arr = random.randint(length*10, size=(length*2))\n",
    "table = [Node() for _ in range(length)]\n",
    "\n",
    "for val in arr:\n",
    "    hash = val % length\n",
    "    table[hash].val = val\n",
    "    if not table[hash]:\n",
    "        table[hash] = Node(head=True, val=val)\n",
    "    table[hash] = table[hash].move_next()\n",
    "    table[hash].val = val\n",
    "\n",
    "[print(i, head) for i, head in enumerate(table)]\n",
    "\n"
   ]
  },
  {
   "attachments": {},
   "cell_type": "markdown",
   "metadata": {},
   "source": [
    "# Two pointers & sliding window\n",
    "---"
   ]
  },
  {
   "attachments": {},
   "cell_type": "markdown",
   "metadata": {},
   "source": [
    "# Stacks & queues\n",
    "---"
   ]
  },
  {
   "attachments": {},
   "cell_type": "markdown",
   "metadata": {},
   "source": [
    "# Binary search\n",
    "---"
   ]
  },
  {
   "cell_type": "markdown",
   "metadata": {},
   "source": []
  }
 ],
 "metadata": {
  "kernelspec": {
   "display_name": "venv",
   "language": "python",
   "name": "python3"
  },
  "language_info": {
   "codemirror_mode": {
    "name": "ipython",
    "version": 3
   },
   "file_extension": ".py",
   "mimetype": "text/x-python",
   "name": "python",
   "nbconvert_exporter": "python",
   "pygments_lexer": "ipython3",
   "version": "3.7.9"
  },
  "orig_nbformat": 4,
  "vscode": {
   "interpreter": {
    "hash": "99c84293b698d49168c10dcf15395f403262f168999c47e73700f46e10fe2f62"
   }
  }
 },
 "nbformat": 4,
 "nbformat_minor": 2
}
