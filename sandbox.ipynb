{
 "cells": [
  {
   "attachments": {},
   "cell_type": "markdown",
   "metadata": {},
   "source": [
    "### Queue"
   ]
  },
  {
   "cell_type": "code",
   "execution_count": 11,
   "metadata": {},
   "outputs": [
    {
     "name": "stdout",
     "output_type": "stream",
     "text": [
      "stack deque([1, 2, 3])\n",
      "queue deque([2, 3, 5])\n"
     ]
    }
   ],
   "source": [
    "from collections import deque\n",
    "stack = deque([1, 2, 3])\n",
    "stack.appendleft(5)  # adds at head\n",
    "stack.popleft()  # gets from head\n",
    "# deque([1, 2, 3])\n",
    "\n",
    "queue = deque([1, 2, 3])\n",
    "queue.append(5)  # adds to end\n",
    "queue.popleft()  # gets from head\n",
    "# queue deque([2, 3, 5])"
   ]
  },
  {
   "attachments": {},
   "cell_type": "markdown",
   "metadata": {},
   "source": [
    "### Hash"
   ]
  },
  {
   "cell_type": "code",
   "execution_count": 2,
   "metadata": {},
   "outputs": [
    {
     "name": "stdout",
     "output_type": "stream",
     "text": [
      "The autoreload extension is already loaded. To reload it, use:\n",
      "  %reload_ext autoreload\n",
      "0 (None)\n",
      "1 (1->1)\n",
      "2 (12->32->12->32->32)\n",
      "3 (63->13->13)\n",
      "4 (4->94->94)\n",
      "5 (None)\n",
      "6 (76->76)\n",
      "7 (77->37->17->17)\n",
      "8 (68->68->18->48->48)\n",
      "9 (39->69->99->99)\n"
     ]
    },
    {
     "data": {
      "text/plain": [
       "[None, None, None, None, None, None, None, None, None, None]"
      ]
     },
     "execution_count": 2,
     "metadata": {},
     "output_type": "execute_result"
    }
   ],
   "source": [
    "%load_ext autoreload\n",
    "%autoreload 2\n",
    "from lib.linked_list import Node\n",
    "from numpy import random\n",
    "\n",
    "length = 10\n",
    "arr = random.randint(length*10, size=(length*2))\n",
    "table = [Node() for _ in range(length)]\n",
    "\n",
    "for val in arr:\n",
    "    hash = val % length\n",
    "    table[hash].val = val\n",
    "    if not table[hash]:\n",
    "        table[hash] = Node(head=True, val=val)\n",
    "    table[hash] = table[hash].move_next()\n",
    "    table[hash].val = val\n",
    "\n",
    "[print(i, head) for i, head in enumerate(table)]"
   ]
  },
  {
   "attachments": {},
   "cell_type": "markdown",
   "metadata": {},
   "source": [
    "### Trees - DFS (in-order traversal)"
   ]
  },
  {
   "cell_type": "code",
   "execution_count": 28,
   "metadata": {},
   "outputs": [
    {
     "name": "stdout",
     "output_type": "stream",
     "text": [
      "  _6__ \n",
      " /    \\\n",
      " 3   10\n",
      "/ \\ /  \n",
      "2 5 7  \n",
      "[2, 3, 5, 6, 7, 10]\n"
     ]
    }
   ],
   "source": [
    "from lib.tree import Tree\n",
    "\n",
    "def in_order(node, results=[]):\n",
    "    if not node:\n",
    "        return\n",
    "    in_order(node.left, results)\n",
    "    results.append(node.val)\n",
    "    in_order(node.right, results)\n",
    "    return results\n",
    "\n",
    "root = Tree.random_balanced_bst()\n",
    "root.display()\n",
    "print(in_order(root))"
   ]
  },
  {
   "attachments": {},
   "cell_type": "markdown",
   "metadata": {},
   "source": [
    "### Trees - BFS"
   ]
  },
  {
   "cell_type": "code",
   "execution_count": 34,
   "metadata": {},
   "outputs": [
    {
     "name": "stdout",
     "output_type": "stream",
     "text": [
      "  5_ \n",
      " /  \\\n",
      " 3  7\n",
      "/  / \n",
      "2  6 \n",
      "[5, 3, 7, 2, 6]\n"
     ]
    }
   ],
   "source": [
    "from collections import deque\n",
    "from lib.tree import Tree\n",
    "\n",
    "def tree_bfs(node):\n",
    "    results = []\n",
    "    q = deque([node])\n",
    "    while len(q) > 0:\n",
    "        curr = q.popleft()\n",
    "        results.append(curr.val)\n",
    "        curr.left and q.append(curr.left)\n",
    "        curr.right and q.append(curr.right)\n",
    "    return results\n",
    "            \n",
    "\n",
    "root = Tree.random_balanced_bst()\n",
    "root.display()\n",
    "print(tree_bfs(root))\n",
    "        "
   ]
  },
  {
   "attachments": {},
   "cell_type": "markdown",
   "metadata": {},
   "source": [
    "### Graph - DFS and BFS"
   ]
  },
  {
   "cell_type": "code",
   "execution_count": 7,
   "metadata": {},
   "outputs": [
    {
     "name": "stdout",
     "output_type": "stream",
     "text": [
      "{10: [8], 8: [1, 6, 5], 1: [], 6: [], 5: []}\n",
      "{10: [8], 8: [1, 6, 5], 1: [], 6: [], 5: []}\n"
     ]
    },
    {
     "data": {
      "image/png": "[encoded data removed]",
      "text/plain": [
       "<Figure size 640x480 with 1 Axes>"
      ]
     },
     "metadata": {},
     "output_type": "display_data"
    }
   ],
   "source": [
    "from lib.graph import Graph\n",
    "from collections import deque\n",
    "\n",
    "def dfs(node, adj={}):\n",
    "    if not node:\n",
    "        return\n",
    "    adj[node.val] = []\n",
    "    for child in node.children:\n",
    "        adj[node.val].append(child.val)\n",
    "        if not child.val in adj:   # not visited\n",
    "            dfs(child, adj)\n",
    "    return adj\n",
    "\n",
    "def bfs(node):\n",
    "    adj = {}\n",
    "    q = deque([node])\n",
    "    while len(q) > 0:\n",
    "        curr = q.popleft()\n",
    "        adj[curr.val] = []\n",
    "        for child in curr.children:\n",
    "            adj[curr.val].append(child.val)\n",
    "            if not child.val in adj:  # not visited\n",
    "                q.append(child)\n",
    "    return adj\n",
    "\n",
    "node = Graph.random_graph()\n",
    "adj_dfs = dfs(node)\n",
    "adj_bfs = bfs(node)\n",
    "print(str(adj_dfs) + '\\n' + str(adj_bfs))\n",
    "Graph.plot_graph(adj_dfs)"
   ]
  },
  {
   "attachments": {},
   "cell_type": "markdown",
   "metadata": {},
   "source": [
    "### Graph - BFS"
   ]
  },
  {
   "cell_type": "code",
   "execution_count": null,
   "metadata": {},
   "outputs": [],
   "source": [
    "from lib.graph import Graph\n",
    "\n",
    "\n"
   ]
  }
 ],
 "metadata": {
  "kernelspec": {
   "display_name": "venv",
   "language": "python",
   "name": "python3"
  },
  "language_info": {
   "codemirror_mode": {
    "name": "ipython",
    "version": 3
   },
   "file_extension": ".py",
   "mimetype": "text/x-python",
   "name": "python",
   "nbconvert_exporter": "python",
   "pygments_lexer": "ipython3",
   "version": "3.8.10"
  },
  "orig_nbformat": 4,
  "vscode": {
   "interpreter": {
    "hash": "d904f6c1e2f91889e7de3bea8ae9618595ff49d624a8fb0a13167a7973e5cc85"
   }
  }
 },
 "nbformat": 4,
 "nbformat_minor": 2
}
